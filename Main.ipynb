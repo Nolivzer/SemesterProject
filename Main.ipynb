{
 "cells": [
  {
   "cell_type": "code",
   "execution_count": 1,
   "metadata": {},
   "outputs": [],
   "source": [
    "import pandas as pd\n"
   ]
  },
  {
   "cell_type": "code",
   "execution_count": null,
   "metadata": {},
   "outputs": [],
   "source": []
  },
  {
   "cell_type": "code",
   "execution_count": 2,
   "metadata": {},
   "outputs": [],
   "source": [
    "import requests\n",
    "from bs4 import BeautifulSoup\n",
    "import bs4\n",
    "import time\n",
    "import numpy as np\n",
    "import re\n",
    "import time\n",
    "#the goal is scrapping wikipedia in order to obtain information about citrus fruit\n",
    "#We take the description section of each one and then we will extract main info.\n"
   ]
  },
  {
   "cell_type": "code",
   "execution_count": 8,
   "metadata": {},
   "outputs": [],
   "source": [
    "page_citrus = 'https://en.wikipedia.org/wiki/List_of_citrus_fruits'\n",
    "page_salads = 'https://en.wikipedia.org/wiki/List_of_leaf_vegetables'\n",
    "page_spices = 'https://en.wikipedia.org/wiki/List_of_culinary_herbs_and_spices'\n",
    "page_fruit = 'https://simple.wikipedia.org/wiki/List_of_fruits'\n",
    "page_herbs = 'https://simple.wikipedia.org/wiki/List_of_herbs'\n",
    "page_vegetable = 'https://simple.wikipedia.org/wiki/List_of_vegetables'\n",
    "\n"
   ]
  },
  {
   "cell_type": "code",
   "execution_count": 48,
   "metadata": {
    "scrolled": false
   },
   "outputs": [
    {
     "name": "stdout",
     "output_type": "stream",
     "text": [
      "2\n"
     ]
    },
    {
     "ename": "AttributeError",
     "evalue": "'list' object has no attribute 'partition'",
     "output_type": "error",
     "traceback": [
      "\u001b[1;31m---------------------------------------------------------------------------\u001b[0m",
      "\u001b[1;31mAttributeError\u001b[0m                            Traceback (most recent call last)",
      "\u001b[1;32m<ipython-input-48-7daeb14aeafe>\u001b[0m in \u001b[0;36m<module>\u001b[1;34m\u001b[0m\n\u001b[0;32m     95\u001b[0m \u001b[1;33m\u001b[0m\u001b[0m\n\u001b[0;32m     96\u001b[0m \u001b[1;33m\u001b[0m\u001b[0m\n\u001b[1;32m---> 97\u001b[1;33m \u001b[0mlist_fruit\u001b[0m \u001b[1;33m=\u001b[0m \u001b[0mmake_link_list\u001b[0m\u001b[1;33m(\u001b[0m\u001b[0mpage_fruit\u001b[0m\u001b[1;33m)\u001b[0m\u001b[1;33m\u001b[0m\u001b[1;33m\u001b[0m\u001b[0m\n\u001b[0m\u001b[0;32m     98\u001b[0m \u001b[0mnumber_fruit\u001b[0m \u001b[1;33m=\u001b[0m \u001b[0mlen\u001b[0m\u001b[1;33m(\u001b[0m\u001b[0mlist_fruit\u001b[0m\u001b[1;33m)\u001b[0m\u001b[1;33m\u001b[0m\u001b[1;33m\u001b[0m\u001b[0m\n\u001b[0;32m     99\u001b[0m \u001b[0mprint\u001b[0m\u001b[1;33m(\u001b[0m\u001b[1;34m'Number of fruits'\u001b[0m\u001b[1;33m,\u001b[0m \u001b[0mlen\u001b[0m\u001b[1;33m(\u001b[0m\u001b[0mlist_fruit\u001b[0m\u001b[1;33m)\u001b[0m\u001b[1;33m)\u001b[0m\u001b[1;33m\u001b[0m\u001b[1;33m\u001b[0m\u001b[0m\n",
      "\u001b[1;32m<ipython-input-48-7daeb14aeafe>\u001b[0m in \u001b[0;36mmake_link_list\u001b[1;34m(wiki_page_to_scrap)\u001b[0m\n\u001b[0;32m     63\u001b[0m                 \u001b[0monly_common_species\u001b[0m \u001b[1;33m=\u001b[0m \u001b[0monly_common_species\u001b[0m\u001b[1;33m.\u001b[0m\u001b[0msplit\u001b[0m\u001b[1;33m(\u001b[0m\u001b[1;34m'\\n'\u001b[0m\u001b[1;33m)\u001b[0m\u001b[1;33m\u001b[0m\u001b[1;33m\u001b[0m\u001b[0m\n\u001b[0;32m     64\u001b[0m \u001b[1;33m\u001b[0m\u001b[0m\n\u001b[1;32m---> 65\u001b[1;33m                 \u001b[0monly_common_species\u001b[0m \u001b[1;33m,\u001b[0m \u001b[0msep\u001b[0m \u001b[1;33m,\u001b[0m \u001b[0mtail\u001b[0m \u001b[1;33m=\u001b[0m \u001b[0monly_common_species\u001b[0m\u001b[1;33m.\u001b[0m\u001b[0mpartition\u001b[0m\u001b[1;33m(\u001b[0m\u001b[1;34m','\u001b[0m\u001b[1;33m)\u001b[0m\u001b[1;33m\u001b[0m\u001b[1;33m\u001b[0m\u001b[0m\n\u001b[0m\u001b[0;32m     66\u001b[0m                 \u001b[0mlink_table\u001b[0m\u001b[1;33m.\u001b[0m\u001b[0mappend\u001b[0m\u001b[1;33m(\u001b[0m\u001b[0monly_common_species\u001b[0m\u001b[1;33m)\u001b[0m\u001b[1;33m\u001b[0m\u001b[1;33m\u001b[0m\u001b[0m\n\u001b[0;32m     67\u001b[0m \u001b[1;33m\u001b[0m\u001b[0m\n",
      "\u001b[1;31mAttributeError\u001b[0m: 'list' object has no attribute 'partition'"
     ]
    }
   ],
   "source": [
    "\n",
    "#A function that gets the URL of the page to be scraped\n",
    "#,gets the html content and uses BeautifulSoup to parse html content\n",
    "\n",
    "def make_soup(link):\n",
    "    get_page = requests.get(link)\n",
    "    html = get_page.content\n",
    "    soup = BeautifulSoup(html, 'html.parser')\n",
    "    return  soup\n",
    "\n",
    "\n",
    "#####This function create a list with all the link of the foods in a wikipedia Page.\n",
    "def make_link_list(wiki_page_to_scrap):\n",
    "    start_time = time.time()\n",
    "    link_table = []\n",
    "    soup = make_soup(wiki_page_to_scrap)\n",
    "    table = soup.find('table',{'class':'wikitable'})\n",
    "    \n",
    "            ### This first loop is used to scrap Wiki table Data.\n",
    "    if isinstance(table , bs4.element.Tag):        \n",
    "    \n",
    "        table_cells = []\n",
    "        table = soup.find('table',{'class':'wikitable'})\n",
    "        for row in table.find_all(\"tr\"):\n",
    "            cells = row.find_all(['th' , 'td'])\n",
    "            table_cells.append(cells)\n",
    "        \n",
    "        ### This loop is used to locate the \"Common name\" column index in our table cells\n",
    "        indices = []\n",
    "        for j in table_cells:\n",
    "            for i, elem in enumerate(j):\n",
    "                elem = str(elem)\n",
    "                if 'name' in elem:\n",
    "                    indices.append(i)\n",
    "        indice = indices[0]\n",
    "        \n",
    "        #print('Table Cells' , table_cells[:3])\n",
    "        ### Here we implement a loop to keep only the string of the Common name column.\n",
    "        \n",
    "        for cell in table_cells[2:]:\n",
    "            \n",
    "            if (len(cell) < indice) == True :\n",
    "                pass\n",
    "             \n",
    "            else:    \n",
    "                link_table.append(cell[indice].text)\n",
    "            \n",
    "        ### Let's clean the table.\n",
    "        for link in range(len(link_table)):\n",
    "            link_table[link] = link_table[link].strip('\\n')\n",
    "            \n",
    "        print('cpu time for the table schema = {:.4f} sec.'.format(time.time() - start_time))\n",
    "            \n",
    "            ### Here is when the Wiki page is just an Alphabetical List.    \n",
    "    elif (len(soup.find_all('div' , {'class':'div-col'}))>0) == True : \n",
    "        print(len(soup.find_all('div' , {'class':'div-col'})))\n",
    "        for row in soup.find_all('div' , {'class':'div-col'}):\n",
    "            \n",
    "            for col in row.find_all('li'):\n",
    "                species = col.text\n",
    "                ###We just keep the common name of the species, because only the common name is used in recipes.\n",
    "                only_common_species = re.sub(\"[\\(\\[].*?[\\)\\]]\", \"\", species) \n",
    "                only_common_species , sep , tail = only_common_species.partition(',')\n",
    "                link_table.append(only_common_species)\n",
    "                \n",
    "                ###Cleaning of the list, we remove all the occurence of string begining by List.\n",
    "        for word in link_table[:]:\n",
    "            if word.find('List') != -1:\n",
    "                link_table.remove(word)\n",
    "            \n",
    "            \n",
    "        print('cpu time for the  Alphabetical list schema = {:.4f} sec.'.format(time.time() - start_time))  \n",
    "        \n",
    "        ### For the list pattern without alphabetical list.\n",
    "    elif (len(soup.find_all('div' , {'class' : 'mw-parser-output'}))> 0 ) == True:\n",
    "        for row in soup.find_all('div' , {'class' : 'mw-parser-output'}):\n",
    "             for col in row.find_all('li'):\n",
    "                    species = col.text\n",
    "        ###We just keep the common name of the species, because only the common name is used in recipes.\n",
    "                    only_common_species = re.sub(\"[\\(\\[].*?[\\)\\]]\", \"\", species) \n",
    "                    only_common_species , sep , tail = only_common_species.partition(',')\n",
    "                    link_table.append(only_common_species)\n",
    "                    \n",
    "                ###Cleaning of the list, we remove all the occurence of string begining by List.\n",
    "        for word in link_table[:]:\n",
    "            if word.find('List') != -1:\n",
    "                link_table.remove(word)\n",
    "        \n",
    "        print('cpu time for the list schema = {:.4f} sec.'.format(time.time() - start_time))            \n",
    "\n",
    "    return link_table  \n",
    "\n",
    "\n",
    "\n",
    "list_fruit = make_link_list(page_fruit)\n",
    "number_fruit = len(list_fruit)\n",
    "print('Number of fruits', len(list_fruit))\n",
    "print(list_fruit)"
   ]
  },
  {
   "cell_type": "code",
   "execution_count": 9,
   "metadata": {
    "scrolled": false
   },
   "outputs": [
    {
     "name": "stdout",
     "output_type": "stream",
     "text": [
      "cpu time for the table schema = 0.5810 sec.\n",
      "Number of citrus 50\n",
      "cpu time for the table schema = 2.1336 sec.\n",
      "Number of salads 438\n",
      "20\n",
      "cpu time for the  Alphabetical list schema = 0.7485 sec.\n",
      "Number of spices 203\n",
      "2\n",
      "cpu time for the  Alphabetical list schema = 3.5630 sec.\n",
      "Number of fruits 114\n",
      "1\n",
      "cpu time for the  Alphabetical list schema = 0.4125 sec.\n",
      "Number of herbs 46\n",
      "cpu time for the list schema = 0.4438 sec.\n",
      "Number of vegetables 132\n",
      "Total number 983\n"
     ]
    }
   ],
   "source": [
    "\n",
    "list_citrus = make_link_list(page_citrus)\n",
    "number_citrus = len(list_citrus)\n",
    "print('Number of citrus' , len(list_citrus))\n",
    "\n",
    "\n",
    "list_salad = make_link_list(page_salads)\n",
    "number_salad = len(list_salad)\n",
    "print('Number of salads' , len(list_salad))\n",
    "\n",
    "\n",
    "list_spices = make_link_list(page_spices)\n",
    "number_spices = len(list_spices)\n",
    "print('Number of spices' , len(list_spices))\n",
    "\n",
    "\n",
    "list_fruit = make_link_list(page_fruit)\n",
    "number_fruit = len(list_fruit)\n",
    "print('Number of fruits', len(list_fruit))\n",
    "\n",
    "\n",
    "list_herbs = make_link_list(page_herbs)\n",
    "number_herbs = len(list_herbs)\n",
    "print('Number of herbs', len(list_herbs))\n",
    "\n",
    "\n",
    "list_vegetable = make_link_list(page_vegetable)\n",
    "number_vegetable = len(list_vegetable)\n",
    "print('Number of vegetables' , number_vegetable)\n",
    "\n",
    "\n",
    "\n",
    "print('Total number' , number_citrus + number_fruit + number_herbs + number_salad + number_spices + number_vegetable )"
   ]
  },
  {
   "cell_type": "code",
   "execution_count": 24,
   "metadata": {},
   "outputs": [
    {
     "name": "stdout",
     "output_type": "stream",
     "text": [
      "0\n",
      "{'FRUITS': ['Açaí', 'Apple', 'Akee', 'Apricot', 'Avocado', 'Banana', 'Bilberry', 'Blackberry', 'Blackcurrant', 'Black sapote', 'Blueberry', 'Boysenberry', \"Buddha's hand \", 'Crab apples', 'Currant', 'Cherry', 'Cherimoya ', 'Chico fruit', 'Cloudberry', 'Coconut', 'Cranberry', 'Cucumber', 'Damson', 'Date', 'Dragonfruit ', 'Durian', 'Elderberry', 'Feijoa', 'Fig', 'Goji berry', 'Gooseberry', 'Grape\\nRaisin', 'Raisin', 'Grapefruit', 'Guava', 'Honeyberry', 'Huckleberry', 'Jabuticaba', 'Jackfruit', 'Jambul', 'Japanese plum', 'Jostaberry', 'Jujube', 'Juniper berry', 'Kiwano ', 'Kiwifruit', 'Kumquat', 'Lemon', 'Lime', 'Loquat', 'Longan', 'Lychee', 'Mango', 'Mangosteen', 'Marionberry', 'Melon\\nCantaloupe\\nHoneydew\\nWatermelon', 'Cantaloupe', 'Honeydew', 'Watermelon', 'Miracle fruit', 'Mulberry', 'Nectarine', 'Nance', 'Olive', 'Orange\\nBlood orange\\nClementine\\nMandarine\\nTangerine', 'Blood orange', 'Clementine', 'Mandarine', 'Tangerine', 'Papaya', 'Passionfruit', 'Peach', 'Pear', 'Persimmon', 'Plantain', 'Plum\\nPrune ', 'Prune ', 'Pineapple', 'Pineberry', 'Plumcot ', 'Pomegranate', 'Pomelo', 'Purple mangosteen', 'Quince', 'Raspberry\\nSalmonberry', 'Salmonberry', 'Rambutan ', 'Redcurrant', 'Salal berry', 'Salak', 'Satsuma', 'Soursop', 'Star apple', 'Star fruit', 'Strawberry', 'Surinam cherry', 'Tamarillo', 'Tamarind', 'Ugli fruit', 'White currant', 'White sapote', 'Yuzu', 'Avocado', 'Bell pepper', 'Chili pepper', 'Corn kernel', 'Cucumber', 'Eggplant', 'Olive', 'Pea', 'Pumpkin', 'Squash', 'Tomato', 'Zucchini']}\n"
     ]
    }
   ],
   "source": [
    "# Let's create a dictionary with the different categories of vegetables. \n",
    "\n",
    "### This function is the constructor of the dictionnary, when we want to add a category and a list (which can be empty)to the dict.\n",
    "def add_cat_to_dict(list_of_ingr , Category_name , food_dict , existency = True):\n",
    "    #existency argument is the signal to ceate a new dictionnary.\n",
    "    if existency == True:\n",
    "        CAT_NAME = Category_name.upper()    \n",
    "        food_dict.update({CAT_NAME : list_of_ingr})\n",
    "    else :\n",
    "        food_dict = dict()\n",
    "        CAT_NAME = Category_name.upper()    \n",
    "        food_dict.update({CAT_NAME : list_of_ingr})        \n",
    "    return\n",
    "\n",
    "###This function permits to the user to add an element in a category, I thought that the user will add ingredient\n",
    "###one by one, so he should put one tuple (category, ingredient) as input:\n",
    "#def add_instance\n",
    "    \n",
    "\n",
    "ingre_dict = dict()\n",
    "print(len(ingre_dict))\n",
    "\n",
    "add_to_dict(list_fruit , 'Fruits',ingre_dict)\n",
    "print(ingre_dict)\n"
   ]
  },
  {
   "cell_type": "code",
   "execution_count": 21,
   "metadata": {},
   "outputs": [
    {
     "name": "stdout",
     "output_type": "stream",
     "text": [
      "cpu time for the list schema = 0.1300 sec.\n",
      "Number of vegetables 0\n"
     ]
    }
   ],
   "source": [
    "page_vegetable = 'https://simple.wikipedia.org/wiki/List_of_vegetables'\n",
    "list_vegetable = make_link_list(page_vegetable)\n",
    "print('Number of vegetables' , len(list_vegetable))"
   ]
  },
  {
   "cell_type": "code",
   "execution_count": 13,
   "metadata": {},
   "outputs": [
    {
     "name": "stdout",
     "output_type": "stream",
     "text": [
      "cpu time for the list schema = 0.1417 sec.\n",
      "List of fruit ['Açaí', 'Apple', 'Akee', 'Apricot'] 114\n"
     ]
    }
   ],
   "source": [
    "page_fruit = 'https://simple.wikipedia.org/wiki/List_of_fruits'\n",
    "\n",
    "list_fruit = make_link_list(page_fruit)\n",
    "print('List of fruit' , list_fruit[:4] , len(list_fruit))"
   ]
  },
  {
   "cell_type": "code",
   "execution_count": 42,
   "metadata": {},
   "outputs": [
    {
     "name": "stdout",
     "output_type": "stream",
     "text": [
      "['PastiS', 'Ricard']\n"
     ]
    }
   ],
   "source": [
    "a='PastiS\\nRicard'\n",
    "a= a.split('\\n')\n",
    "print(a)"
   ]
  },
  {
   "cell_type": "code",
   "execution_count": 46,
   "metadata": {},
   "outputs": [
    {
     "name": "stdout",
     "output_type": "stream",
     "text": [
      "2\n"
     ]
    },
    {
     "ename": "AttributeError",
     "evalue": "'list' object has no attribute 'find'",
     "output_type": "error",
     "traceback": [
      "\u001b[1;31m---------------------------------------------------------------------------\u001b[0m",
      "\u001b[1;31mAttributeError\u001b[0m                            Traceback (most recent call last)",
      "\u001b[1;32m<ipython-input-46-517dc084b2b9>\u001b[0m in \u001b[0;36m<module>\u001b[1;34m\u001b[0m\n\u001b[1;32m----> 1\u001b[1;33m \u001b[0mlist_fruit\u001b[0m \u001b[1;33m=\u001b[0m \u001b[0mmake_link_list\u001b[0m\u001b[1;33m(\u001b[0m\u001b[0mpage_fruit\u001b[0m\u001b[1;33m)\u001b[0m\u001b[1;33m\u001b[0m\u001b[1;33m\u001b[0m\u001b[0m\n\u001b[0m\u001b[0;32m      2\u001b[0m \u001b[0mnumber_fruit\u001b[0m \u001b[1;33m=\u001b[0m \u001b[0mlen\u001b[0m\u001b[1;33m(\u001b[0m\u001b[0mlist_fruit\u001b[0m\u001b[1;33m)\u001b[0m\u001b[1;33m\u001b[0m\u001b[1;33m\u001b[0m\u001b[0m\n\u001b[0;32m      3\u001b[0m \u001b[0mprint\u001b[0m\u001b[1;33m(\u001b[0m\u001b[1;34m'Number of fruits'\u001b[0m\u001b[1;33m,\u001b[0m \u001b[0mlen\u001b[0m\u001b[1;33m(\u001b[0m\u001b[0mlist_fruit\u001b[0m\u001b[1;33m)\u001b[0m\u001b[1;33m)\u001b[0m\u001b[1;33m\u001b[0m\u001b[1;33m\u001b[0m\u001b[0m\n\u001b[0;32m      4\u001b[0m \u001b[0mprint\u001b[0m\u001b[1;33m(\u001b[0m\u001b[0mlist_fruit\u001b[0m\u001b[1;33m)\u001b[0m\u001b[1;33m\u001b[0m\u001b[1;33m\u001b[0m\u001b[0m\n",
      "\u001b[1;32m<ipython-input-45-a6a1338fbaf2>\u001b[0m in \u001b[0;36mmake_link_list\u001b[1;34m(wiki_page_to_scrap)\u001b[0m\n\u001b[0;32m     67\u001b[0m                 \u001b[1;31m###Cleaning of the list, we remove all the occurence of string begining by List.\u001b[0m\u001b[1;33m\u001b[0m\u001b[1;33m\u001b[0m\u001b[1;33m\u001b[0m\u001b[0m\n\u001b[0;32m     68\u001b[0m         \u001b[1;32mfor\u001b[0m \u001b[0mword\u001b[0m \u001b[1;32min\u001b[0m \u001b[0mlink_table\u001b[0m\u001b[1;33m[\u001b[0m\u001b[1;33m:\u001b[0m\u001b[1;33m]\u001b[0m\u001b[1;33m:\u001b[0m\u001b[1;33m\u001b[0m\u001b[1;33m\u001b[0m\u001b[0m\n\u001b[1;32m---> 69\u001b[1;33m             \u001b[1;32mif\u001b[0m \u001b[0mword\u001b[0m\u001b[1;33m.\u001b[0m\u001b[0mfind\u001b[0m\u001b[1;33m(\u001b[0m\u001b[1;34m'List'\u001b[0m\u001b[1;33m)\u001b[0m \u001b[1;33m!=\u001b[0m \u001b[1;33m-\u001b[0m\u001b[1;36m1\u001b[0m\u001b[1;33m:\u001b[0m\u001b[1;33m\u001b[0m\u001b[1;33m\u001b[0m\u001b[0m\n\u001b[0m\u001b[0;32m     70\u001b[0m                 \u001b[0mlink_table\u001b[0m\u001b[1;33m.\u001b[0m\u001b[0mremove\u001b[0m\u001b[1;33m(\u001b[0m\u001b[0mword\u001b[0m\u001b[1;33m)\u001b[0m\u001b[1;33m\u001b[0m\u001b[1;33m\u001b[0m\u001b[0m\n\u001b[0;32m     71\u001b[0m \u001b[1;33m\u001b[0m\u001b[0m\n",
      "\u001b[1;31mAttributeError\u001b[0m: 'list' object has no attribute 'find'"
     ]
    }
   ],
   "source": [
    "list_fruit = make_link_list(page_fruit)\n",
    "number_fruit = len(list_fruit)\n",
    "print('Number of fruits', len(list_fruit))\n",
    "print(list_fruit)"
   ]
  },
  {
   "cell_type": "code",
   "execution_count": null,
   "metadata": {},
   "outputs": [],
   "source": []
  }
 ],
 "metadata": {
  "kernelspec": {
   "display_name": "Python 3",
   "language": "python",
   "name": "python3"
  },
  "language_info": {
   "codemirror_mode": {
    "name": "ipython",
    "version": 3
   },
   "file_extension": ".py",
   "mimetype": "text/x-python",
   "name": "python",
   "nbconvert_exporter": "python",
   "pygments_lexer": "ipython3",
   "version": "3.7.2"
  }
 },
 "nbformat": 4,
 "nbformat_minor": 2
}
