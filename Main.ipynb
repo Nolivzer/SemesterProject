{
 "cells": [
  {
   "cell_type": "code",
   "execution_count": 5,
   "metadata": {},
   "outputs": [],
   "source": [
    "import pandas as pd\n"
   ]
  },
  {
   "cell_type": "code",
   "execution_count": 7,
   "metadata": {
    "collapsed": true
   },
   "outputs": [
    {
     "name": "stdout",
     "output_type": "stream",
     "text": [
      "Requirement already satisfied: wikipedia in c:\\users\\oburg\\appdata\\local\\programs\\python\\python37-32\\lib\\site-packages (1.4.0)\n",
      "Requirement already satisfied: beautifulsoup4 in c:\\users\\oburg\\appdata\\local\\programs\\python\\python37-32\\lib\\site-packages (from wikipedia) (4.7.1)\n",
      "Requirement already satisfied: requests<3.0.0,>=2.0.0 in c:\\users\\oburg\\appdata\\local\\programs\\python\\python37-32\\lib\\site-packages (from wikipedia) (2.21.0)\n",
      "Requirement already satisfied: soupsieve>=1.2 in c:\\users\\oburg\\appdata\\local\\programs\\python\\python37-32\\lib\\site-packages (from beautifulsoup4->wikipedia) (1.7.1)\n",
      "Requirement already satisfied: chardet<3.1.0,>=3.0.2 in c:\\users\\oburg\\appdata\\local\\programs\\python\\python37-32\\lib\\site-packages (from requests<3.0.0,>=2.0.0->wikipedia) (3.0.4)\n",
      "Requirement already satisfied: certifi>=2017.4.17 in c:\\users\\oburg\\appdata\\local\\programs\\python\\python37-32\\lib\\site-packages (from requests<3.0.0,>=2.0.0->wikipedia) (2018.11.29)\n",
      "Requirement already satisfied: urllib3<1.25,>=1.21.1 in c:\\users\\oburg\\appdata\\local\\programs\\python\\python37-32\\lib\\site-packages (from requests<3.0.0,>=2.0.0->wikipedia) (1.24.1)\n",
      "Requirement already satisfied: idna<2.9,>=2.5 in c:\\users\\oburg\\appdata\\local\\programs\\python\\python37-32\\lib\\site-packages (from requests<3.0.0,>=2.0.0->wikipedia) (2.8)\n",
      "Requirement already satisfied: requests in c:\\users\\oburg\\appdata\\local\\programs\\python\\python37-32\\lib\\site-packages (2.21.0)\n",
      "Requirement already satisfied: idna<2.9,>=2.5 in c:\\users\\oburg\\appdata\\local\\programs\\python\\python37-32\\lib\\site-packages (from requests) (2.8)\n",
      "Requirement already satisfied: certifi>=2017.4.17 in c:\\users\\oburg\\appdata\\local\\programs\\python\\python37-32\\lib\\site-packages (from requests) (2018.11.29)\n",
      "Requirement already satisfied: chardet<3.1.0,>=3.0.2 in c:\\users\\oburg\\appdata\\local\\programs\\python\\python37-32\\lib\\site-packages (from requests) (3.0.4)\n",
      "Requirement already satisfied: urllib3<1.25,>=1.21.1 in c:\\users\\oburg\\appdata\\local\\programs\\python\\python37-32\\lib\\site-packages (from requests) (1.24.1)\n",
      "Collecting BeautilfulSoup\n"
     ]
    },
    {
     "name": "stderr",
     "output_type": "stream",
     "text": [
      "  Could not find a version that satisfies the requirement BeautilfulSoup (from versions: )\n",
      "No matching distribution found for BeautilfulSoup\n"
     ]
    },
    {
     "name": "stdout",
     "output_type": "stream",
     "text": [
      "Collecting time\n"
     ]
    },
    {
     "name": "stderr",
     "output_type": "stream",
     "text": [
      "  Could not find a version that satisfies the requirement time (from versions: )\n",
      "No matching distribution found for time\n"
     ]
    }
   ],
   "source": [
    "!pip install wikipedia\n",
    "!pip install requests\n",
    "!pip install BeautilfulSoup\n",
    "!pip install time\n"
   ]
  },
  {
   "cell_type": "code",
   "execution_count": 1,
   "metadata": {},
   "outputs": [
    {
     "name": "stdout",
     "output_type": "stream",
     "text": [
      "Requirement already satisfied: lxml in c:\\users\\oburg\\appdata\\local\\programs\\python\\python37-32\\lib\\site-packages (4.3.0)\n"
     ]
    }
   ],
   "source": [
    "!pip install lxml"
   ]
  },
  {
   "cell_type": "code",
   "execution_count": 1,
   "metadata": {},
   "outputs": [],
   "source": [
    "import requests\n",
    "from bs4 import BeautifulSoup\n",
    "import bs4\n",
    "import time\n",
    "import numpy as np\n",
    "import re\n",
    "import time\n",
    "#the goal is scrapping wikipedia in order to obtain information about citrus fruit\n",
    "#We take the description section of each one and then we will extract main info.\n"
   ]
  },
  {
   "cell_type": "code",
   "execution_count": 74,
   "metadata": {
    "scrolled": false
   },
   "outputs": [
    {
     "name": "stdout",
     "output_type": "stream",
     "text": [
      "indice table [4]\n",
      "len cell 6\n",
      "cells [<td rowspan=\"32\"><a href=\"/wiki/Poaceae\" title=\"Poaceae\">Poaceae</a>\n",
      "</td>, <td rowspan=\"2\"><a href=\"/wiki/Andropogoneae\" title=\"Andropogoneae\">Andropogoneae</a>\n",
      "</td>, <td><i><a href=\"/wiki/Sorghum\" title=\"Sorghum\">Sorghum</a></i>\n",
      "</td>, <td><a href=\"/wiki/Sorghum_bicolor\" title=\"Sorghum bicolor\"><i>S. bicolor</i></a>\n",
      "</td>, <td>sorghum\n",
      "</td>, <td><div class=\"center\"><div class=\"floatnone\"><a class=\"image\" href=\"/wiki/File:Lalibela-Sorgho.jpg\"><img alt=\"Lalibela-Sorgho.jpg\" data-file-height=\"3240\" data-file-width=\"4320\" decoding=\"async\" height=\"40\" src=\"//upload.wikimedia.org/wikipedia/commons/thumb/5/57/Lalibela-Sorgho.jpg/53px-Lalibela-Sorgho.jpg\" srcset=\"//upload.wikimedia.org/wikipedia/commons/thumb/5/57/Lalibela-Sorgho.jpg/80px-Lalibela-Sorgho.jpg 1.5x, //upload.wikimedia.org/wikipedia/commons/thumb/5/57/Lalibela-Sorgho.jpg/107px-Lalibela-Sorgho.jpg 2x\" width=\"53\"/></a></div></div>\n",
      "</td>]\n",
      "Selected cell length 6 <td>sorghum\n",
      "</td>\n",
      "len cell 4\n",
      "cells [<td><i><a href=\"/wiki/Zea_(plant)\" title=\"Zea (plant)\">Zea</a></i>\n",
      "</td>, <td><i><a class=\"mw-redirect\" href=\"/wiki/Zea_mays\" title=\"Zea mays\">Z. mays</a></i>\n",
      "</td>, <td>maize, corn, corn kernel\n",
      "</td>, <td><div class=\"center\"><div class=\"floatnone\"><a class=\"image\" href=\"/wiki/File:GEM_corn.jpg\"><img alt=\"GEM corn.jpg\" data-file-height=\"1864\" data-file-width=\"2790\" decoding=\"async\" height=\"40\" src=\"//upload.wikimedia.org/wikipedia/commons/thumb/f/fe/GEM_corn.jpg/60px-GEM_corn.jpg\" srcset=\"//upload.wikimedia.org/wikipedia/commons/thumb/f/fe/GEM_corn.jpg/90px-GEM_corn.jpg 1.5x, //upload.wikimedia.org/wikipedia/commons/thumb/f/fe/GEM_corn.jpg/120px-GEM_corn.jpg 2x\" width=\"60\"/></a></div></div>\n",
      "</td>]\n"
     ]
    },
    {
     "ename": "IndexError",
     "evalue": "list index out of range",
     "output_type": "error",
     "traceback": [
      "\u001b[1;31m---------------------------------------------------------------------------\u001b[0m",
      "\u001b[1;31mIndexError\u001b[0m                                Traceback (most recent call last)",
      "\u001b[1;32m<ipython-input-74-789a49fc6950>\u001b[0m in \u001b[0;36m<module>\u001b[1;34m\u001b[0m\n\u001b[0;32m     81\u001b[0m \u001b[1;33m\u001b[0m\u001b[0m\n\u001b[0;32m     82\u001b[0m \u001b[1;33m\u001b[0m\u001b[0m\n\u001b[1;32m---> 83\u001b[1;33m \u001b[0mlist_seeds\u001b[0m \u001b[1;33m=\u001b[0m \u001b[0mmake_link_list\u001b[0m\u001b[1;33m(\u001b[0m\u001b[0mpage_seeds\u001b[0m\u001b[1;33m)\u001b[0m\u001b[1;33m\u001b[0m\u001b[1;33m\u001b[0m\u001b[0m\n\u001b[0m\u001b[0;32m     84\u001b[0m \u001b[0mprint\u001b[0m\u001b[1;33m(\u001b[0m\u001b[0mlist_seeds\u001b[0m\u001b[1;33m)\u001b[0m\u001b[1;33m\u001b[0m\u001b[1;33m\u001b[0m\u001b[0m\n\u001b[0;32m     85\u001b[0m \u001b[1;33m\u001b[0m\u001b[0m\n",
      "\u001b[1;32m<ipython-input-74-789a49fc6950>\u001b[0m in \u001b[0;36mmake_link_list\u001b[1;34m(wiki_page_to_scrap)\u001b[0m\n\u001b[0;32m     50\u001b[0m               \u001b[1;31m#  link_table.append(cell[tmp_indice].text)\u001b[0m\u001b[1;33m\u001b[0m\u001b[1;33m\u001b[0m\u001b[1;33m\u001b[0m\u001b[0m\n\u001b[0;32m     51\u001b[0m             \u001b[1;32melse\u001b[0m\u001b[1;33m:\u001b[0m\u001b[1;33m\u001b[0m\u001b[1;33m\u001b[0m\u001b[0m\n\u001b[1;32m---> 52\u001b[1;33m                 \u001b[0mprint\u001b[0m\u001b[1;33m(\u001b[0m\u001b[1;34m'Selected cell length'\u001b[0m \u001b[1;33m,\u001b[0m \u001b[0mlen\u001b[0m\u001b[1;33m(\u001b[0m\u001b[0mcell\u001b[0m\u001b[1;33m)\u001b[0m \u001b[1;33m,\u001b[0m \u001b[0mcell\u001b[0m\u001b[1;33m[\u001b[0m\u001b[0mindice\u001b[0m\u001b[1;33m]\u001b[0m\u001b[1;33m)\u001b[0m\u001b[1;33m\u001b[0m\u001b[1;33m\u001b[0m\u001b[0m\n\u001b[0m\u001b[0;32m     53\u001b[0m                 \u001b[0mlink_table\u001b[0m\u001b[1;33m.\u001b[0m\u001b[0mappend\u001b[0m\u001b[1;33m(\u001b[0m\u001b[0mcell\u001b[0m\u001b[1;33m[\u001b[0m\u001b[0mindice\u001b[0m\u001b[1;33m]\u001b[0m\u001b[1;33m.\u001b[0m\u001b[0mtext\u001b[0m\u001b[1;33m)\u001b[0m\u001b[1;33m\u001b[0m\u001b[1;33m\u001b[0m\u001b[0m\n\u001b[0;32m     54\u001b[0m \u001b[1;33m\u001b[0m\u001b[0m\n",
      "\u001b[1;31mIndexError\u001b[0m: list index out of range"
     ]
    }
   ],
   "source": [
    "page_citrus = 'https://en.wikipedia.org/wiki/List_of_citrus_fruits'\n",
    "page_salads = 'https://en.wikipedia.org/wiki/List_of_leaf_vegetables'\n",
    "page_spices = 'https://en.wikipedia.org/wiki/List_of_culinary_herbs_and_spices'\n",
    "\n",
    "#A function that gets the URL of the page to be scraped\n",
    "#,gets the html content and uses BeautifulSoup to parse html content\n",
    "\n",
    "def make_soup(link):\n",
    "    get_page = requests.get(link)\n",
    "    html = get_page.content\n",
    "    soup = BeautifulSoup(html, 'html.parser')\n",
    "    return  soup\n",
    "\n",
    "\n",
    "#####This function create a list with all the link of the foods in a wikipedia Page.\n",
    "def make_link_list(wiki_page_to_scrap):\n",
    "    start_time = time.time()\n",
    "    link_table = []\n",
    "    soup = make_soup(wiki_page_to_scrap)\n",
    "    table = soup.find('table',{'class':'wikitable'})\n",
    "    \n",
    "            ### This first loop is used to scrap Wiki table Data.\n",
    "    if isinstance(table , bs4.element.Tag):        \n",
    "    \n",
    "        table_cells = []\n",
    "        table = soup.find('table',{'class':'wikitable'})\n",
    "        for row in table.find_all(\"tr\"):\n",
    "            cells = row.find_all(['th' , 'td'])\n",
    "            table_cells.append(cells)\n",
    "        \n",
    "        ### This loop is used to locate the \"Common name\" column index in our table cells\n",
    "        indices = []\n",
    "        for j in table_cells:\n",
    "            for i, elem in enumerate(j):\n",
    "                elem = str(elem)\n",
    "                if 'name' in elem:\n",
    "                    indices.append(i)\n",
    "        indice = indices[0]\n",
    "        print(\"indice table\" , indices)\n",
    "        \n",
    "        #print('Table Cells' , table_cells[:3])\n",
    "        ### Here we implement a loop to keep only the string of the Common name column.\n",
    "        \n",
    "        for cell in table_cells[2:]:\n",
    "            print('len cell' , len(cell))\n",
    "            print('cells' , cell)\n",
    "            if (len(cell) < indice) == True :\n",
    "                pass\n",
    "             #   tmp_indice = indice - 1\n",
    "              #  link_table.append(cell[tmp_indice].text)\n",
    "            else:    \n",
    "                print('Selected cell length' , len(cell) , cell[indice])\n",
    "                link_table.append(cell[indice].text)\n",
    "            \n",
    "        ### Let's clean the table.\n",
    "        for link in range(len(link_table)):\n",
    "            link_table[link] = link_table[link].strip('\\n')\n",
    "            \n",
    "        print('cpu time for the table schema = {:.4f} sec.'.format(time.time() - start_time))\n",
    "            \n",
    "            ### Here is when the Wiki page is just an Alphabetical List.    \n",
    "    else:       \n",
    "        for row in soup.find_all('div' , {'class':'div-col'}):\n",
    "            for col in row.find_all('li'):\n",
    "                species = col.text\n",
    "                ###We just keep the common name of the species, because only the common name is used in recipes.\n",
    "                only_common_species = re.sub(\"[\\(\\[].*?[\\)\\]]\", \"\", species) \n",
    "                only_common_species , sep , tail = only_common_species.partition(',')\n",
    "                link_table.append(only_common_species)\n",
    "                \n",
    "                ###Cleaning of the list, we remove all the occurence of string begining by List.\n",
    "        for word in link_table[:]:\n",
    "            if word.find('List') != -1:\n",
    "                link_table.remove(word)\n",
    "            \n",
    "        print('cpu time for the list schema = {:.4f} sec.'.format(time.time() - start_time))     \n",
    "\n",
    "    return link_table  \n",
    "\n",
    "page_seeds = 'https://en.wikipedia.org/wiki/List_of_edible_seeds'\n",
    "\n",
    "\n",
    "list_seeds = make_link_list(page_seeds)\n",
    "print(list_seeds)\n",
    "    "
   ]
  },
  {
   "cell_type": "code",
   "execution_count": 40,
   "metadata": {
    "scrolled": true
   },
   "outputs": [
    {
     "name": "stdout",
     "output_type": "stream",
     "text": [
      "0\n",
      "cpu time for the table schema = 0.2502 sec.\n",
      "Number of citrus 51\n",
      "['Amanatsu', 'Balady citronIsrael citron', 'Bergamot orange']\n",
      "1\n",
      "cpu time for the table schema = 0.7436 sec.\n",
      "Number of salads 439\n",
      "['China Jute', 'Climbing wattle', 'Paracress', 'Common Marshmallow', 'Purple amaranth', 'Common amaranth', 'Prickly amaranth', 'Amaranth', 'Slender amaranth', 'Celery']\n",
      "cpu time for the list schema = 0.3598 sec.\n",
      "Number of spices 203\n"
     ]
    }
   ],
   "source": [
    "list_citrus = make_link_list(page_citrus)\n",
    "print('Number of citrus' , len(list_citrus))\n",
    "print(list_citrus[:3])\n",
    "\n",
    "list_salad = make_link_list(page_salads) \n",
    "print('Number of salads' , len(list_salad))\n",
    "print(list_salad[:10])\n",
    "\n",
    "list_spices = make_link_list(page_spices)\n",
    "print('Number of spices' , len(list_spices))\n"
   ]
  },
  {
   "cell_type": "code",
   "execution_count": 15,
   "metadata": {},
   "outputs": [],
   "source": [
    "# Let's create a dictionary with the different categories of vegetables. \n",
    "\n",
    "foods_dict = dict([('CITRUS' , list_citrus) , ('SALAD' , list_salad) , ('SPICES' , list_spices)])\n",
    "\n"
   ]
  },
  {
   "cell_type": "code",
   "execution_count": 43,
   "metadata": {},
   "outputs": [
    {
     "name": "stdout",
     "output_type": "stream",
     "text": [
      "4\n",
      "<th>Tribe\n",
      "</th>\n",
      "<td rowspan=\"2\"><a href=\"/wiki/Andropogoneae\" title=\"Andropogoneae\">Andropogoneae</a>\n",
      "</td>\n",
      "<td><i><a class=\"mw-redirect\" href=\"/wiki/Zea_mays\" title=\"Zea mays\">Z. mays</a></i>\n",
      "</td>\n"
     ]
    },
    {
     "ename": "IndexError",
     "evalue": "list index out of range",
     "output_type": "error",
     "traceback": [
      "\u001b[1;31m---------------------------------------------------------------------------\u001b[0m",
      "\u001b[1;31mIndexError\u001b[0m                                Traceback (most recent call last)",
      "\u001b[1;32m<ipython-input-43-c446ec577f45>\u001b[0m in \u001b[0;36m<module>\u001b[1;34m\u001b[0m\n\u001b[0;32m      2\u001b[0m \u001b[1;33m\u001b[0m\u001b[0m\n\u001b[0;32m      3\u001b[0m \u001b[1;33m\u001b[0m\u001b[0m\n\u001b[1;32m----> 4\u001b[1;33m \u001b[0mlist_seeds\u001b[0m \u001b[1;33m=\u001b[0m \u001b[0mmake_link_list\u001b[0m\u001b[1;33m(\u001b[0m\u001b[0mpage_seeds\u001b[0m\u001b[1;33m)\u001b[0m\u001b[1;33m\u001b[0m\u001b[1;33m\u001b[0m\u001b[0m\n\u001b[0m\u001b[0;32m      5\u001b[0m \u001b[0mprint\u001b[0m\u001b[1;33m(\u001b[0m\u001b[0mlist_seeds\u001b[0m\u001b[1;33m)\u001b[0m\u001b[1;33m\u001b[0m\u001b[1;33m\u001b[0m\u001b[0m\n",
      "\u001b[1;32m<ipython-input-42-e92bac58eddd>\u001b[0m in \u001b[0;36mmake_link_list\u001b[1;34m(wiki_page_to_scrap)\u001b[0m\n\u001b[0;32m     44\u001b[0m         \u001b[1;32mfor\u001b[0m \u001b[0mcell\u001b[0m \u001b[1;32min\u001b[0m \u001b[0mtable_cells\u001b[0m\u001b[1;33m[\u001b[0m\u001b[1;36m1\u001b[0m\u001b[1;33m:\u001b[0m\u001b[1;33m]\u001b[0m \u001b[1;33m:\u001b[0m\u001b[1;33m\u001b[0m\u001b[1;33m\u001b[0m\u001b[0m\n\u001b[0;32m     45\u001b[0m             \u001b[0mprint\u001b[0m\u001b[1;33m(\u001b[0m\u001b[0mcell\u001b[0m\u001b[1;33m[\u001b[0m\u001b[1;36m1\u001b[0m\u001b[1;33m]\u001b[0m\u001b[1;33m)\u001b[0m\u001b[1;33m\u001b[0m\u001b[1;33m\u001b[0m\u001b[0m\n\u001b[1;32m---> 46\u001b[1;33m             \u001b[0mlink_table\u001b[0m\u001b[1;33m.\u001b[0m\u001b[0mappend\u001b[0m\u001b[1;33m(\u001b[0m\u001b[0mcell\u001b[0m\u001b[1;33m[\u001b[0m\u001b[0mindice\u001b[0m\u001b[1;33m]\u001b[0m\u001b[1;33m.\u001b[0m\u001b[0mtext\u001b[0m\u001b[1;33m)\u001b[0m\u001b[1;33m\u001b[0m\u001b[1;33m\u001b[0m\u001b[0m\n\u001b[0m\u001b[0;32m     47\u001b[0m \u001b[1;33m\u001b[0m\u001b[0m\n\u001b[0;32m     48\u001b[0m         \u001b[1;31m### Let's clean the table.\u001b[0m\u001b[1;33m\u001b[0m\u001b[1;33m\u001b[0m\u001b[1;33m\u001b[0m\u001b[0m\n",
      "\u001b[1;31mIndexError\u001b[0m: list index out of range"
     ]
    }
   ],
   "source": [
    "page_seeds = 'https://en.wikipedia.org/wiki/List_of_edible_seeds'\n",
    "\n",
    "\n",
    "list_seeds = make_link_list(page_seeds)\n",
    "print(list_seeds)"
   ]
  },
  {
   "cell_type": "code",
   "execution_count": null,
   "metadata": {},
   "outputs": [],
   "source": []
  }
 ],
 "metadata": {
  "kernelspec": {
   "display_name": "Python 3",
   "language": "python",
   "name": "python3"
  },
  "language_info": {
   "codemirror_mode": {
    "name": "ipython",
    "version": 3
   },
   "file_extension": ".py",
   "mimetype": "text/x-python",
   "name": "python",
   "nbconvert_exporter": "python",
   "pygments_lexer": "ipython3",
   "version": "3.7.2"
  }
 },
 "nbformat": 4,
 "nbformat_minor": 2
}
